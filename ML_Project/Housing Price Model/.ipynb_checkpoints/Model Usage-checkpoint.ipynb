{
 "cells": [
  {
   "cell_type": "code",
   "execution_count": 1,
   "id": "4bc8cb2b-5ca2-4e11-b110-95092efda164",
   "metadata": {},
   "outputs": [],
   "source": [
    "from joblib import dump, load\n",
    "import numpy as np\n",
    "model = load('Firm.joblib')"
   ]
  },
  {
   "cell_type": "code",
   "execution_count": 5,
   "id": "01c5cf8d-3731-447a-95a9-706cb0086856",
   "metadata": {},
   "outputs": [
    {
     "data": {
      "text/plain": [
       "array([9133600.])"
      ]
     },
     "execution_count": 5,
     "metadata": {},
     "output_type": "execute_result"
    }
   ],
   "source": [
    "features = np.array([[ 5.0303415 ,  2.74175583,  3.46742497,  0.25666614,  0.38780895,\n",
    "       -0.48128829, -0.79558708, -0.2134562 , -0.68050514, -0.82983596,\n",
    "       -0.55262032, -0.61269431, -0.79943589,  1.40213637]])\n",
    "model.predict(features)"
   ]
  },
  {
   "cell_type": "code",
   "execution_count": null,
   "id": "ba61aef1-9165-47a9-8849-309850f100aa",
   "metadata": {},
   "outputs": [],
   "source": []
  }
 ],
 "metadata": {
  "kernelspec": {
   "display_name": "Python 3 (ipykernel)",
   "language": "python",
   "name": "python3"
  },
  "language_info": {
   "codemirror_mode": {
    "name": "ipython",
    "version": 3
   },
   "file_extension": ".py",
   "mimetype": "text/x-python",
   "name": "python",
   "nbconvert_exporter": "python",
   "pygments_lexer": "ipython3",
   "version": "3.11.9"
  }
 },
 "nbformat": 4,
 "nbformat_minor": 5
}
