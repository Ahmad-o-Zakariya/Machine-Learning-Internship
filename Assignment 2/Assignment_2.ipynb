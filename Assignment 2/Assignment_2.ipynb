{
 "cells": [
  {
   "cell_type": "markdown",
   "id": "ff628fc0",
   "metadata": {},
   "source": [
    ">Imports, load and preprocess, DecisionTree class"
   ]
  },
  {
   "cell_type": "code",
   "execution_count": null,
   "id": "ca3707b0",
   "metadata": {},
   "outputs": [],
   "source": [
    "import pandas as pd\n",
    "import numpy as np\n",
    "from collections import Counter\n",
    "from sklearn.model_selection import train_test_split\n",
    "\n",
    "df = pd.read_csv('titanic.csv')\n",
    "\n",
    "df['Sex'] = df['Sex'].map({'male': 0, 'female': 1})\n",
    "\n",
    "X = df[['Pclass',\n",
    "        'Sex',\n",
    "        'Age',\n",
    "        'Siblings/Spouses Aboard',\n",
    "        'Parents/Children Aboard',\n",
    "        'Fare']].values\n",
    "y = df['Survived'].values\n",
    "\n",
    "class DecisionTree:\n",
    "    def __init__(self, min_samples_split=2, max_depth=5):\n",
    "        self.min_samples_split = min_samples_split\n",
    "        self.max_depth = max_depth\n",
    "\n",
    "    class Node:\n",
    "        def __init__(self, gini, n_samples, n_per_class, pred_class):\n",
    "            self.gini = gini\n",
    "            self.n_samples = n_samples\n",
    "            self.n_per_class = n_per_class\n",
    "            self.predicted_class = pred_class\n",
    "            self.feature_index = None\n",
    "            self.threshold = None\n",
    "            self.left = None\n",
    "            self.right = None\n",
    "\n",
    "    def _gini(self, y):\n",
    "        m = len(y)\n",
    "        return 1.0 - sum((np.sum(y == c) / m) ** 2 for c in [0, 1])\n",
    "\n",
    "    def _best_split(self, X, y):\n",
    "        m, n = X.shape\n",
    "        if m < self.min_samples_split:\n",
    "            return None, None\n",
    "        best_gini, best_idx, best_thr = 1.0, None, None\n",
    "        for idx in range(n):\n",
    "            # sort by feature idx\n",
    "            thresholds, classes = zip(*sorted(zip(X[:, idx], y)))\n",
    "            left_counts = [0, 0]\n",
    "            right_counts = Counter(classes)\n",
    "            for i in range(1, m):\n",
    "                c = classes[i - 1]\n",
    "                left_counts[c] += 1\n",
    "                right_counts[c] -= 1\n",
    "                gini_l = 1.0 - sum((left_counts[x] / i) ** 2 for x in [0, 1])\n",
    "                gini_r = 1.0 - sum((right_counts[x] / (m - i)) ** 2 for x in [0, 1])\n",
    "                g = (i * gini_l + (m - i) * gini_r) / m\n",
    "                if thresholds[i] == thresholds[i - 1]:\n",
    "                    continue\n",
    "                if g < best_gini:\n",
    "                    best_gini, best_idx = g, idx\n",
    "                    best_thr = (thresholds[i] + thresholds[i - 1]) / 2\n",
    "        return best_idx, best_thr\n",
    "\n",
    "    def _build_tree(self, X, y, depth=0):\n",
    "        counts = [np.sum(y == i) for i in [0, 1]]\n",
    "        pred = np.argmax(counts)\n",
    "        node = DecisionTree.Node(self._gini(y), y.size, counts, pred)\n",
    "        if depth < self.max_depth:\n",
    "            idx, thr = self._best_split(X, y)\n",
    "            if idx is not None:\n",
    "                mask = X[:, idx] < thr\n",
    "                X_l, y_l = X[mask], y[mask]\n",
    "                X_r, y_r = X[~mask], y[~mask]\n",
    "                if len(y_l) and len(y_r):\n",
    "                    node.feature_index, node.threshold = idx, thr\n",
    "                    node.left  = self._build_tree(X_l, y_l, depth + 1)\n",
    "                    node.right = self._build_tree(X_r, y_r, depth + 1)\n",
    "        return node\n",
    "\n",
    "    def fit(self, X, y):\n",
    "        self.tree_ = self._build_tree(X, y)\n",
    "\n",
    "    def _predict_one(self, x):\n",
    "        node = self.tree_\n",
    "        while node.left:\n",
    "            node = node.left if x[node.feature_index] < node.threshold else node.right\n",
    "        return node.predicted_class\n",
    "\n",
    "    def predict(self, X):\n",
    "        return [self._predict_one(x) for x in X]\n"
   ]
  },
  {
   "cell_type": "markdown",
   "id": "25d7842f",
   "metadata": {},
   "source": [
    ">Train models for each split and collect predictions"
   ]
  },
  {
   "cell_type": "code",
   "execution_count": 3,
   "id": "b0cb0322",
   "metadata": {},
   "outputs": [],
   "source": [
    "splits = {'50:50': 0.50, '70:30': 0.70, '80:20': 0.80}\n",
    "results = {}  \n",
    "\n",
    "for name, train_size in splits.items():\n",
    "    X_tr, X_te, y_tr, y_te = train_test_split(X, y, train_size=train_size, random_state=42)\n",
    "    clf = DecisionTree(max_depth=5)\n",
    "    clf.fit(X_tr, y_tr)\n",
    "    y_pr = clf.predict(X_te)\n",
    "    results[name] = (y_te, y_pr)"
   ]
  },
  {
   "cell_type": "markdown",
   "id": "c2d5263b",
   "metadata": {},
   "source": [
    ">Compute Accuracy, Precision, Recall, F1 for each split"
   ]
  },
  {
   "cell_type": "code",
   "execution_count": 4,
   "id": "a8a4b05c",
   "metadata": {},
   "outputs": [
    {
     "name": "stdout",
     "output_type": "stream",
     "text": [
      "--- 50:50 Split Metrics ---\n",
      "Accuracy: 0.7927927927927928\n",
      "Precision: 0.8524590163934426\n",
      "Recall: 0.5842696629213483\n",
      "F1 Score: 0.6933333333333334\n",
      "\n",
      "--- 70:30 Split Metrics ---\n",
      "Accuracy: 0.797752808988764\n",
      "Precision: 0.7831325301204819\n",
      "Recall: 0.6435643564356436\n",
      "F1 Score: 0.7065217391304348\n",
      "\n",
      "--- 80:20 Split Metrics ---\n",
      "Accuracy: 0.797752808988764\n",
      "Precision: 0.7818181818181819\n",
      "Recall: 0.6417910447761194\n",
      "F1 Score: 0.7049180327868853\n",
      "\n"
     ]
    }
   ],
   "source": [
    "\n",
    "\n",
    "from sklearn.metrics import accuracy_score, precision_score, recall_score, f1_score\n",
    "\n",
    "for name, (y_true, y_pred) in results.items():\n",
    "    print(f\"--- {name} Split Metrics ---\")\n",
    "    print(\"Accuracy:\", accuracy_score(y_true, y_pred))\n",
    "    print(\"Precision:\", precision_score(y_true, y_pred))\n",
    "    print(\"Recall:\", recall_score(y_true, y_pred))\n",
    "    print(\"F1 Score:\", f1_score(y_true, y_pred))\n",
    "    print()\n"
   ]
  },
  {
   "cell_type": "markdown",
   "id": "decb125a",
   "metadata": {},
   "source": [
    ">Print confusion matrix for each split"
   ]
  },
  {
   "cell_type": "code",
   "execution_count": 5,
   "id": "a2ca1baa",
   "metadata": {},
   "outputs": [
    {
     "name": "stdout",
     "output_type": "stream",
     "text": [
      "--- 50:50 Split Confusion Matrix ---\n",
      "[[248  18]\n",
      " [ 74 104]]\n",
      "\n",
      "--- 70:30 Split Confusion Matrix ---\n",
      "[[148  18]\n",
      " [ 36  65]]\n",
      "\n",
      "--- 80:20 Split Confusion Matrix ---\n",
      "[[99 12]\n",
      " [24 43]]\n",
      "\n"
     ]
    }
   ],
   "source": [
    "\n",
    "from sklearn.metrics import confusion_matrix\n",
    "for name, (y_true, y_pred) in results.items():\n",
    "    print(f\"--- {name} Split Confusion Matrix ---\")\n",
    "    print(confusion_matrix(y_true, y_pred))\n",
    "    print()\n"
   ]
  }
 ],
 "metadata": {
  "kernelspec": {
   "display_name": "Python 3",
   "language": "python",
   "name": "python3"
  },
  "language_info": {
   "codemirror_mode": {
    "name": "ipython",
    "version": 3
   },
   "file_extension": ".py",
   "mimetype": "text/x-python",
   "name": "python",
   "nbconvert_exporter": "python",
   "pygments_lexer": "ipython3",
   "version": "3.11.9"
  }
 },
 "nbformat": 4,
 "nbformat_minor": 5
}
