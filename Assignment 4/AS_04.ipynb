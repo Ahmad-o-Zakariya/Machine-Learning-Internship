{
 "cells": [
  {
   "cell_type": "markdown",
   "id": "c61c22dc-9a38-4f93-88f0-936777a027aa",
   "metadata": {},
   "source": [
    "# ML Evaluation: Raw vs Preprocessed Dataset (Train:Val:Test Splits)"
   ]
  },
  {
   "cell_type": "code",
   "execution_count": 1,
   "id": "02dff13d-c3da-44ef-bfab-3e02ff2f64e8",
   "metadata": {},
   "outputs": [],
   "source": [
    "import pandas as pd\n",
    "import numpy as np\n",
    "from sklearn.model_selection import train_test_split\n",
    "from sklearn.ensemble import RandomForestClassifier\n",
    "from sklearn.metrics import accuracy_score, f1_score\n",
    "from sklearn.pipeline import Pipeline, make_pipeline\n",
    "from sklearn.compose import ColumnTransformer\n",
    "from sklearn.preprocessing import OneHotEncoder, StandardScaler\n",
    "from sklearn.impute import SimpleImputer"
   ]
  },
  {
   "cell_type": "code",
   "execution_count": 2,
   "id": "b026186d-c8ac-4ab3-85dc-3149755b0648",
   "metadata": {},
   "outputs": [],
   "source": [
    "file_path = \"AHMAD ZAKARIYA - ml_preprocessing_dataset_1000.csv\"\n",
    "df = pd.read_csv(file_path)\n",
    "\n",
    "df = df.drop(columns=['Legacy_Customer_ID'])\n",
    "X = df.drop(columns='Target')\n",
    "y = df['Target']\n"
   ]
  },
  {
   "cell_type": "code",
   "execution_count": 4,
   "id": "fc8819b6-420f-4ddb-8b30-4594ff9de5f8",
   "metadata": {},
   "outputs": [],
   "source": [
    "X_train_70, X_temp_70, y_train_70, y_temp_70 = train_test_split(X, y, test_size=0.30, random_state=42, stratify=y)\n",
    "X_val_70, X_test_70, y_val_70, y_test_70 = train_test_split(X_temp_70, y_temp_70, test_size=0.50, random_state=42, stratify=y_temp_70)\n",
    "\n",
    "X_train_80, X_temp_80, y_train_80, y_temp_80 = train_test_split(X, y, test_size=0.20, random_state=42, stratify=y)\n",
    "X_val_80, X_test_80, y_val_80, y_test_80 = train_test_split(X_temp_80, y_temp_80, test_size=0.50, random_state=42, stratify=y_temp_80)\n"
   ]
  },
  {
   "cell_type": "code",
   "execution_count": 5,
   "id": "b73a4dfb-0b70-4e9a-97e4-d224ca0cc0c8",
   "metadata": {},
   "outputs": [],
   "source": [
    "def train_raw(X_train, X_val, X_test, y_train, y_val, y_test):\n",
    "    train_clean = pd.concat([X_train, y_train], axis=1).dropna()\n",
    "    val_clean = pd.concat([X_val, y_val], axis=1).dropna()\n",
    "    test_clean = pd.concat([X_test, y_test], axis=1).dropna()\n",
    "    \n",
    "    X_train_clean = train_clean.drop(columns='Target')\n",
    "    y_train_clean = train_clean['Target']\n",
    "    X_val_clean = val_clean.drop(columns='Target')\n",
    "    y_val_clean = val_clean['Target']\n",
    "    X_test_clean = test_clean.drop(columns='Target')\n",
    "    y_test_clean = test_clean['Target']\n",
    "    \n",
    "    categorical_features = X_train_clean.select_dtypes(include='object').columns.tolist()\n",
    "    \n",
    "    preprocessor = ColumnTransformer([\n",
    "        ('cat', OneHotEncoder(handle_unknown='ignore'), categorical_features)\n",
    "    ], remainder='passthrough')\n",
    "    \n",
    "    clf = Pipeline([\n",
    "        ('preprocessor', preprocessor),\n",
    "        ('classifier', RandomForestClassifier(random_state=42))\n",
    "    ])\n",
    "    \n",
    "    clf.fit(X_train_clean, y_train_clean)\n",
    "    \n",
    "    return {\n",
    "        'val_acc': accuracy_score(y_val_clean, clf.predict(X_val_clean)),\n",
    "        'val_f1': f1_score(y_val_clean, clf.predict(X_val_clean)),\n",
    "        'test_acc': accuracy_score(y_test_clean, clf.predict(X_test_clean)),\n",
    "        'test_f1': f1_score(y_test_clean, clf.predict(X_test_clean))\n",
    "    }\n",
    "\n",
    "# Function for training with preprocessing\n",
    "def build_pipeline(X):\n",
    "    numeric_features = X.select_dtypes(include=['int64', 'float64']).columns.tolist()\n",
    "    categorical_features = X.select_dtypes(include='object').columns.tolist()\n",
    "    \n",
    "    if 'Customer_Feedback' in categorical_features:\n",
    "        categorical_features.remove('Customer_Feedback')\n",
    "    \n",
    "    numeric_pipeline = make_pipeline(\n",
    "        SimpleImputer(strategy='mean'),\n",
    "        StandardScaler()\n",
    "    )\n",
    "    categorical_pipeline = make_pipeline(\n",
    "        SimpleImputer(strategy='most_frequent'),\n",
    "        OneHotEncoder(handle_unknown='ignore')\n",
    "    )\n",
    "    \n",
    "    preprocessor = ColumnTransformer([\n",
    "        ('num', numeric_pipeline, numeric_features),\n",
    "        ('cat', categorical_pipeline, categorical_features)\n",
    "    ])\n",
    "    \n",
    "    return Pipeline([\n",
    "        ('preprocessor', preprocessor),\n",
    "        ('classifier', RandomForestClassifier(random_state=42))\n",
    "    ])\n",
    "\n",
    "def train_preprocessed(X_train, X_val, X_test, y_train, y_val, y_test):\n",
    "    X_train = X_train.drop(columns=['Customer_Feedback'], errors='ignore')\n",
    "    X_val = X_val.drop(columns=['Customer_Feedback'], errors='ignore')\n",
    "    X_test = X_test.drop(columns=['Customer_Feedback'], errors='ignore')\n",
    "    \n",
    "    clf = build_pipeline(X_train)\n",
    "    clf.fit(X_train, y_train)\n",
    "    \n",
    "    return {\n",
    "        'val_acc': accuracy_score(y_val, clf.predict(X_val)),\n",
    "        'val_f1': f1_score(y_val, clf.predict(X_val)),\n",
    "        'test_acc': accuracy_score(y_test, clf.predict(X_test)),\n",
    "        'test_f1': f1_score(y_test, clf.predict(X_test))\n",
    "    }\n"
   ]
  },
  {
   "cell_type": "markdown",
   "id": "e23210ed-f18f-4541-9288-42999660b7a6",
   "metadata": {},
   "source": [
    "# Run evaluation and print results"
   ]
  },
  {
   "cell_type": "code",
   "execution_count": 6,
   "id": "409af86f-2e93-4c12-abb2-2fda9c2f28c9",
   "metadata": {},
   "outputs": [
    {
     "name": "stdout",
     "output_type": "stream",
     "text": [
      "Raw 70:30 -> {'val_acc': 0.5887096774193549, 'val_f1': 0.2153846153846154, 'test_acc': 0.5746268656716418, 'test_f1': 0.17391304347826086}\n",
      "Raw 80:20 -> {'val_acc': 0.5529411764705883, 'val_f1': 0.13636363636363635, 'test_acc': 0.6022727272727273, 'test_f1': 0.3137254901960784}\n",
      "Preprocessed 70:30 -> {'val_acc': 0.5466666666666666, 'val_f1': 0.24444444444444444, 'test_acc': 0.64, 'test_f1': 0.34146341463414637}\n",
      "Preprocessed 80:20 -> {'val_acc': 0.58, 'val_f1': 0.3, 'test_acc': 0.59, 'test_f1': 0.2545454545454545}\n"
     ]
    }
   ],
   "source": [
    "results_raw_70 = train_raw(X_train_70, X_val_70, X_test_70, y_train_70, y_val_70, y_test_70)\n",
    "results_raw_80 = train_raw(X_train_80, X_val_80, X_test_80, y_train_80, y_val_80, y_test_80)\n",
    "results_prep_70 = train_preprocessed(X_train_70, X_val_70, X_test_70, y_train_70, y_val_70, y_test_70)\n",
    "results_prep_80 = train_preprocessed(X_train_80, X_val_80, X_test_80, y_train_80, y_val_80, y_test_80)\n",
    "\n",
    "print(\"Raw 70:30 ->\", results_raw_70)\n",
    "print(\"Raw 80:20 ->\", results_raw_80)\n",
    "print(\"Preprocessed 70:30 ->\", results_prep_70)\n",
    "print(\"Preprocessed 80:20 ->\", results_prep_80)\n"
   ]
  },
  {
   "cell_type": "code",
   "execution_count": null,
   "id": "c0b44169-cc9f-4f9a-b9ce-107773c2c930",
   "metadata": {},
   "outputs": [],
   "source": []
  }
 ],
 "metadata": {
  "kernelspec": {
   "display_name": "Python 3 (ipykernel)",
   "language": "python",
   "name": "python3"
  },
  "language_info": {
   "codemirror_mode": {
    "name": "ipython",
    "version": 3
   },
   "file_extension": ".py",
   "mimetype": "text/x-python",
   "name": "python",
   "nbconvert_exporter": "python",
   "pygments_lexer": "ipython3",
   "version": "3.11.9"
  }
 },
 "nbformat": 4,
 "nbformat_minor": 5
}
