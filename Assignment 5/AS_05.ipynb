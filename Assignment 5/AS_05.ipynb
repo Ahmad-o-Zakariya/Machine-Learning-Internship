{
 "cells": [
  {
   "cell_type": "markdown",
   "id": "f1afeb2b-fb5c-4279-adab-58ccefce02c1",
   "metadata": {},
   "source": [
    "# Step-by-Step KNN Implementation"
   ]
  },
  {
   "cell_type": "code",
   "execution_count": 1,
   "id": "84deba77-7f0f-479b-aa00-7e8840a5b70f",
   "metadata": {},
   "outputs": [],
   "source": [
    "import numpy as np\n",
    "import pandas as pd\n",
    "from sklearn.datasets import load_iris\n",
    "from sklearn.model_selection import train_test_split, KFold\n",
    "from sklearn.metrics import confusion_matrix, classification_report, accuracy_score, precision_score, recall_score, f1_score\n",
    "from collections import Counter\n"
   ]
  },
  {
   "cell_type": "code",
   "execution_count": 2,
   "id": "62b6f9be-810d-4a85-ba3a-8929955532d8",
   "metadata": {},
   "outputs": [],
   "source": [
    "def euclidean_distance(x1, x2):\n",
    "    return np.sqrt(np.sum((x1 - x2) ** 2))\n",
    "\n",
    "def manhattan_distance(x1, x2):\n",
    "    return np.sum(np.abs(x1 - x2))\n",
    "\n",
    "def cosine_distance(x1, x2):\n",
    "    dot = np.dot(x1, x2)\n",
    "    norm1 = np.linalg.norm(x1)\n",
    "    norm2 = np.linalg.norm(x2)\n",
    "    return 1 - dot / (norm1 * norm2)\n"
   ]
  },
  {
   "cell_type": "markdown",
   "id": "ce493a78-393d-4910-96f3-7b398ad241c3",
   "metadata": {},
   "source": [
    "# KNN Classifier From Scratch"
   ]
  },
  {
   "cell_type": "code",
   "execution_count": 3,
   "id": "f2b96d59-c904-44cc-98b2-82e844720883",
   "metadata": {},
   "outputs": [],
   "source": [
    "class KNN:\n",
    "    def __init__(self, k=3, distance_func='euclidean'):\n",
    "        self.k = k\n",
    "        self.distance_func = distance_func_map[distance_func]\n",
    "        \n",
    "    def fit(self, X, y):\n",
    "        self.X_train = X\n",
    "        self.y_train = y\n",
    "\n",
    "    def predict(self, X):\n",
    "        return [self._predict(x) for x in X]\n",
    "\n",
    "    def _predict(self, x):\n",
    "        # Compute distances\n",
    "        distances = [self.distance_func(x, x_train) for x_train in self.X_train]\n",
    "        # Get k nearest\n",
    "        k_indices = np.argsort(distances)[:self.k]\n",
    "        k_labels = [self.y_train[i] for i in k_indices]\n",
    "        # Majority vote\n",
    "        most_common = Counter(k_labels).most_common(1)\n",
    "        return most_common[0][0]\n"
   ]
  },
  {
   "cell_type": "code",
   "execution_count": 4,
   "id": "b4ecfd96-7702-4622-81a4-ac5c64ecd0b8",
   "metadata": {},
   "outputs": [],
   "source": [
    "distance_func_map = {\n",
    "    'euclidean': euclidean_distance,\n",
    "    'manhattan': manhattan_distance,\n",
    "    'cosine': cosine_distance\n",
    "}\n"
   ]
  },
  {
   "cell_type": "code",
   "execution_count": 5,
   "id": "a916fa61-6b07-4afc-8f53-47eb4c533efa",
   "metadata": {},
   "outputs": [],
   "source": [
    "data = load_iris()\n",
    "X, y = data.data, data.target\n"
   ]
  },
  {
   "cell_type": "code",
   "execution_count": 6,
   "id": "470c0028-86a3-4dd5-84eb-c22e6e501a9f",
   "metadata": {},
   "outputs": [],
   "source": [
    "def evaluate_model(X, y, k_list=[1,3,5,7,10], distance_types=['euclidean', 'manhattan', 'cosine'], n_splits=5):\n",
    "    kf = KFold(n_splits=n_splits, shuffle=True, random_state=42)\n",
    "\n",
    "    for dist in distance_types:\n",
    "        print(f\"\\n=== Distance: {dist.upper()} ===\")\n",
    "        for k_val in k_list + [len(X)-1]:  # Including K=N\n",
    "            print(f\"\\n--- K = {k_val} ---\")\n",
    "            all_y_true = []\n",
    "            all_y_pred = []\n",
    "            \n",
    "            for train_index, test_index in kf.split(X):\n",
    "                X_train, X_test = X[train_index], X[test_index]\n",
    "                y_train, y_test = y[train_index], y[test_index]\n",
    "                \n",
    "                model = KNN(k=k_val, distance_func=dist)\n",
    "                model.fit(X_train, y_train)\n",
    "                preds = model.predict(X_test)\n",
    "                \n",
    "                all_y_true.extend(y_test)\n",
    "                all_y_pred.extend(preds)\n",
    "            \n",
    "            print(\"Confusion Matrix:\")\n",
    "            print(confusion_matrix(all_y_true, all_y_pred))\n",
    "            print(\"Classification Report:\")\n",
    "            print(classification_report(all_y_true, all_y_pred, zero_division=0))\n"
   ]
  },
  {
   "cell_type": "code",
   "execution_count": null,
   "id": "e8f64c31-baf3-4ea0-86da-315eb0fb78cc",
   "metadata": {},
   "outputs": [],
   "source": []
  }
 ],
 "metadata": {
  "kernelspec": {
   "display_name": "Python 3 (ipykernel)",
   "language": "python",
   "name": "python3"
  },
  "language_info": {
   "codemirror_mode": {
    "name": "ipython",
    "version": 3
   },
   "file_extension": ".py",
   "mimetype": "text/x-python",
   "name": "python",
   "nbconvert_exporter": "python",
   "pygments_lexer": "ipython3",
   "version": "3.11.9"
  }
 },
 "nbformat": 4,
 "nbformat_minor": 5
}
